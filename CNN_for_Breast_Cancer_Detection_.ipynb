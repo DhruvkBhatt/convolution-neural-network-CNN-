{
  "nbformat": 4,
  "nbformat_minor": 0,
  "metadata": {
    "colab": {
      "name": "CNN_for_Breast_Cancer_Detection .ipynb",
      "provenance": [],
      "collapsed_sections": [],
      "toc_visible": true
    },
    "kernelspec": {
      "name": "python3",
      "display_name": "Python 3"
    },
    "accelerator": "GPU"
  },
  "cells": [
    {
      "cell_type": "markdown",
      "metadata": {
        "id": "LWscUKL1O4Ca",
        "colab_type": "text"
      },
      "source": [
        "# Step 1: Installation and Setup"
      ]
    },
    {
      "cell_type": "code",
      "metadata": {
        "id": "-00UTPlEO7EV",
        "colab_type": "code",
        "colab": {}
      },
      "source": [
        "!pip install -q tensorflow-gpu"
      ],
      "execution_count": 0,
      "outputs": []
    },
    {
      "cell_type": "code",
      "metadata": {
        "id": "AN4-CoN6R26Q",
        "colab_type": "code",
        "colab": {}
      },
      "source": [
        "import tensorflow as tf"
      ],
      "execution_count": 0,
      "outputs": []
    },
    {
      "cell_type": "code",
      "metadata": {
        "id": "YHxkbJ0_R7I5",
        "colab_type": "code",
        "outputId": "f0e8a4de-3182-49ed-d15b-6c3696f9be7a",
        "colab": {
          "base_uri": "https://localhost:8080/",
          "height": 34
        }
      },
      "source": [
        "print(tf.__version__)"
      ],
      "execution_count": 4,
      "outputs": [
        {
          "output_type": "stream",
          "text": [
            "2.1.0\n"
          ],
          "name": "stdout"
        }
      ]
    },
    {
      "cell_type": "code",
      "metadata": {
        "id": "KdZ95y0ySEDZ",
        "colab_type": "code",
        "colab": {}
      },
      "source": [
        "import numpy as np\n",
        "import pandas as pd\n",
        "import matplotlib.pyplot as plt"
      ],
      "execution_count": 0,
      "outputs": []
    },
    {
      "cell_type": "markdown",
      "metadata": {
        "id": "4Hv68ajSSOME",
        "colab_type": "text"
      },
      "source": [
        "# Step 2: Data Preprocessing"
      ]
    },
    {
      "cell_type": "code",
      "metadata": {
        "id": "eD6fZ8zeSRYM",
        "colab_type": "code",
        "colab": {}
      },
      "source": [
        "from sklearn import datasets, metrics"
      ],
      "execution_count": 0,
      "outputs": []
    },
    {
      "cell_type": "code",
      "metadata": {
        "id": "N9DscVhWSpOQ",
        "colab_type": "code",
        "colab": {}
      },
      "source": [
        "# import the dataset\n",
        "cancer = datasets.load_breast_cancer()"
      ],
      "execution_count": 0,
      "outputs": []
    },
    {
      "cell_type": "code",
      "metadata": {
        "id": "QwotQpvVS4G-",
        "colab_type": "code",
        "outputId": "427d9e17-3366-4d0e-a38b-174426ed9be2",
        "colab": {
          "base_uri": "https://localhost:8080/",
          "height": 1000
        }
      },
      "source": [
        "print(cancer.DESCR)"
      ],
      "execution_count": 8,
      "outputs": [
        {
          "output_type": "stream",
          "text": [
            ".. _breast_cancer_dataset:\n",
            "\n",
            "Breast cancer wisconsin (diagnostic) dataset\n",
            "--------------------------------------------\n",
            "\n",
            "**Data Set Characteristics:**\n",
            "\n",
            "    :Number of Instances: 569\n",
            "\n",
            "    :Number of Attributes: 30 numeric, predictive attributes and the class\n",
            "\n",
            "    :Attribute Information:\n",
            "        - radius (mean of distances from center to points on the perimeter)\n",
            "        - texture (standard deviation of gray-scale values)\n",
            "        - perimeter\n",
            "        - area\n",
            "        - smoothness (local variation in radius lengths)\n",
            "        - compactness (perimeter^2 / area - 1.0)\n",
            "        - concavity (severity of concave portions of the contour)\n",
            "        - concave points (number of concave portions of the contour)\n",
            "        - symmetry \n",
            "        - fractal dimension (\"coastline approximation\" - 1)\n",
            "\n",
            "        The mean, standard error, and \"worst\" or largest (mean of the three\n",
            "        largest values) of these features were computed for each image,\n",
            "        resulting in 30 features.  For instance, field 3 is Mean Radius, field\n",
            "        13 is Radius SE, field 23 is Worst Radius.\n",
            "\n",
            "        - class:\n",
            "                - WDBC-Malignant\n",
            "                - WDBC-Benign\n",
            "\n",
            "    :Summary Statistics:\n",
            "\n",
            "    ===================================== ====== ======\n",
            "                                           Min    Max\n",
            "    ===================================== ====== ======\n",
            "    radius (mean):                        6.981  28.11\n",
            "    texture (mean):                       9.71   39.28\n",
            "    perimeter (mean):                     43.79  188.5\n",
            "    area (mean):                          143.5  2501.0\n",
            "    smoothness (mean):                    0.053  0.163\n",
            "    compactness (mean):                   0.019  0.345\n",
            "    concavity (mean):                     0.0    0.427\n",
            "    concave points (mean):                0.0    0.201\n",
            "    symmetry (mean):                      0.106  0.304\n",
            "    fractal dimension (mean):             0.05   0.097\n",
            "    radius (standard error):              0.112  2.873\n",
            "    texture (standard error):             0.36   4.885\n",
            "    perimeter (standard error):           0.757  21.98\n",
            "    area (standard error):                6.802  542.2\n",
            "    smoothness (standard error):          0.002  0.031\n",
            "    compactness (standard error):         0.002  0.135\n",
            "    concavity (standard error):           0.0    0.396\n",
            "    concave points (standard error):      0.0    0.053\n",
            "    symmetry (standard error):            0.008  0.079\n",
            "    fractal dimension (standard error):   0.001  0.03\n",
            "    radius (worst):                       7.93   36.04\n",
            "    texture (worst):                      12.02  49.54\n",
            "    perimeter (worst):                    50.41  251.2\n",
            "    area (worst):                         185.2  4254.0\n",
            "    smoothness (worst):                   0.071  0.223\n",
            "    compactness (worst):                  0.027  1.058\n",
            "    concavity (worst):                    0.0    1.252\n",
            "    concave points (worst):               0.0    0.291\n",
            "    symmetry (worst):                     0.156  0.664\n",
            "    fractal dimension (worst):            0.055  0.208\n",
            "    ===================================== ====== ======\n",
            "\n",
            "    :Missing Attribute Values: None\n",
            "\n",
            "    :Class Distribution: 212 - Malignant, 357 - Benign\n",
            "\n",
            "    :Creator:  Dr. William H. Wolberg, W. Nick Street, Olvi L. Mangasarian\n",
            "\n",
            "    :Donor: Nick Street\n",
            "\n",
            "    :Date: November, 1995\n",
            "\n",
            "This is a copy of UCI ML Breast Cancer Wisconsin (Diagnostic) datasets.\n",
            "https://goo.gl/U2Uwz2\n",
            "\n",
            "Features are computed from a digitized image of a fine needle\n",
            "aspirate (FNA) of a breast mass.  They describe\n",
            "characteristics of the cell nuclei present in the image.\n",
            "\n",
            "Separating plane described above was obtained using\n",
            "Multisurface Method-Tree (MSM-T) [K. P. Bennett, \"Decision Tree\n",
            "Construction Via Linear Programming.\" Proceedings of the 4th\n",
            "Midwest Artificial Intelligence and Cognitive Science Society,\n",
            "pp. 97-101, 1992], a classification method which uses linear\n",
            "programming to construct a decision tree.  Relevant features\n",
            "were selected using an exhaustive search in the space of 1-4\n",
            "features and 1-3 separating planes.\n",
            "\n",
            "The actual linear program used to obtain the separating plane\n",
            "in the 3-dimensional space is that described in:\n",
            "[K. P. Bennett and O. L. Mangasarian: \"Robust Linear\n",
            "Programming Discrimination of Two Linearly Inseparable Sets\",\n",
            "Optimization Methods and Software 1, 1992, 23-34].\n",
            "\n",
            "This database is also available through the UW CS ftp server:\n",
            "\n",
            "ftp ftp.cs.wisc.edu\n",
            "cd math-prog/cpo-dataset/machine-learn/WDBC/\n",
            "\n",
            ".. topic:: References\n",
            "\n",
            "   - W.N. Street, W.H. Wolberg and O.L. Mangasarian. Nuclear feature extraction \n",
            "     for breast tumor diagnosis. IS&T/SPIE 1993 International Symposium on \n",
            "     Electronic Imaging: Science and Technology, volume 1905, pages 861-870,\n",
            "     San Jose, CA, 1993.\n",
            "   - O.L. Mangasarian, W.N. Street and W.H. Wolberg. Breast cancer diagnosis and \n",
            "     prognosis via linear programming. Operations Research, 43(4), pages 570-577, \n",
            "     July-August 1995.\n",
            "   - W.H. Wolberg, W.N. Street, and O.L. Mangasarian. Machine learning techniques\n",
            "     to diagnose breast cancer from fine-needle aspirates. Cancer Letters 77 (1994) \n",
            "     163-171.\n"
          ],
          "name": "stdout"
        }
      ]
    },
    {
      "cell_type": "code",
      "metadata": {
        "id": "V3rLMP8CTpAA",
        "colab_type": "code",
        "colab": {}
      },
      "source": [
        "# matrix of features\n",
        "x = pd.DataFrame(data = cancer.data, columns=cancer.feature_names)"
      ],
      "execution_count": 0,
      "outputs": []
    },
    {
      "cell_type": "code",
      "metadata": {
        "id": "Jv_DTbPAUOcd",
        "colab_type": "code",
        "outputId": "f2af3081-bfca-4f2e-da4e-3dc4516916f4",
        "colab": {
          "base_uri": "https://localhost:8080/",
          "height": 258
        }
      },
      "source": [
        "x.head()"
      ],
      "execution_count": 10,
      "outputs": [
        {
          "output_type": "execute_result",
          "data": {
            "text/html": [
              "<div>\n",
              "<style scoped>\n",
              "    .dataframe tbody tr th:only-of-type {\n",
              "        vertical-align: middle;\n",
              "    }\n",
              "\n",
              "    .dataframe tbody tr th {\n",
              "        vertical-align: top;\n",
              "    }\n",
              "\n",
              "    .dataframe thead th {\n",
              "        text-align: right;\n",
              "    }\n",
              "</style>\n",
              "<table border=\"1\" class=\"dataframe\">\n",
              "  <thead>\n",
              "    <tr style=\"text-align: right;\">\n",
              "      <th></th>\n",
              "      <th>mean radius</th>\n",
              "      <th>mean texture</th>\n",
              "      <th>mean perimeter</th>\n",
              "      <th>mean area</th>\n",
              "      <th>mean smoothness</th>\n",
              "      <th>mean compactness</th>\n",
              "      <th>mean concavity</th>\n",
              "      <th>mean concave points</th>\n",
              "      <th>mean symmetry</th>\n",
              "      <th>mean fractal dimension</th>\n",
              "      <th>radius error</th>\n",
              "      <th>texture error</th>\n",
              "      <th>perimeter error</th>\n",
              "      <th>area error</th>\n",
              "      <th>smoothness error</th>\n",
              "      <th>compactness error</th>\n",
              "      <th>concavity error</th>\n",
              "      <th>concave points error</th>\n",
              "      <th>symmetry error</th>\n",
              "      <th>fractal dimension error</th>\n",
              "      <th>worst radius</th>\n",
              "      <th>worst texture</th>\n",
              "      <th>worst perimeter</th>\n",
              "      <th>worst area</th>\n",
              "      <th>worst smoothness</th>\n",
              "      <th>worst compactness</th>\n",
              "      <th>worst concavity</th>\n",
              "      <th>worst concave points</th>\n",
              "      <th>worst symmetry</th>\n",
              "      <th>worst fractal dimension</th>\n",
              "    </tr>\n",
              "  </thead>\n",
              "  <tbody>\n",
              "    <tr>\n",
              "      <th>0</th>\n",
              "      <td>17.99</td>\n",
              "      <td>10.38</td>\n",
              "      <td>122.80</td>\n",
              "      <td>1001.0</td>\n",
              "      <td>0.11840</td>\n",
              "      <td>0.27760</td>\n",
              "      <td>0.3001</td>\n",
              "      <td>0.14710</td>\n",
              "      <td>0.2419</td>\n",
              "      <td>0.07871</td>\n",
              "      <td>1.0950</td>\n",
              "      <td>0.9053</td>\n",
              "      <td>8.589</td>\n",
              "      <td>153.40</td>\n",
              "      <td>0.006399</td>\n",
              "      <td>0.04904</td>\n",
              "      <td>0.05373</td>\n",
              "      <td>0.01587</td>\n",
              "      <td>0.03003</td>\n",
              "      <td>0.006193</td>\n",
              "      <td>25.38</td>\n",
              "      <td>17.33</td>\n",
              "      <td>184.60</td>\n",
              "      <td>2019.0</td>\n",
              "      <td>0.1622</td>\n",
              "      <td>0.6656</td>\n",
              "      <td>0.7119</td>\n",
              "      <td>0.2654</td>\n",
              "      <td>0.4601</td>\n",
              "      <td>0.11890</td>\n",
              "    </tr>\n",
              "    <tr>\n",
              "      <th>1</th>\n",
              "      <td>20.57</td>\n",
              "      <td>17.77</td>\n",
              "      <td>132.90</td>\n",
              "      <td>1326.0</td>\n",
              "      <td>0.08474</td>\n",
              "      <td>0.07864</td>\n",
              "      <td>0.0869</td>\n",
              "      <td>0.07017</td>\n",
              "      <td>0.1812</td>\n",
              "      <td>0.05667</td>\n",
              "      <td>0.5435</td>\n",
              "      <td>0.7339</td>\n",
              "      <td>3.398</td>\n",
              "      <td>74.08</td>\n",
              "      <td>0.005225</td>\n",
              "      <td>0.01308</td>\n",
              "      <td>0.01860</td>\n",
              "      <td>0.01340</td>\n",
              "      <td>0.01389</td>\n",
              "      <td>0.003532</td>\n",
              "      <td>24.99</td>\n",
              "      <td>23.41</td>\n",
              "      <td>158.80</td>\n",
              "      <td>1956.0</td>\n",
              "      <td>0.1238</td>\n",
              "      <td>0.1866</td>\n",
              "      <td>0.2416</td>\n",
              "      <td>0.1860</td>\n",
              "      <td>0.2750</td>\n",
              "      <td>0.08902</td>\n",
              "    </tr>\n",
              "    <tr>\n",
              "      <th>2</th>\n",
              "      <td>19.69</td>\n",
              "      <td>21.25</td>\n",
              "      <td>130.00</td>\n",
              "      <td>1203.0</td>\n",
              "      <td>0.10960</td>\n",
              "      <td>0.15990</td>\n",
              "      <td>0.1974</td>\n",
              "      <td>0.12790</td>\n",
              "      <td>0.2069</td>\n",
              "      <td>0.05999</td>\n",
              "      <td>0.7456</td>\n",
              "      <td>0.7869</td>\n",
              "      <td>4.585</td>\n",
              "      <td>94.03</td>\n",
              "      <td>0.006150</td>\n",
              "      <td>0.04006</td>\n",
              "      <td>0.03832</td>\n",
              "      <td>0.02058</td>\n",
              "      <td>0.02250</td>\n",
              "      <td>0.004571</td>\n",
              "      <td>23.57</td>\n",
              "      <td>25.53</td>\n",
              "      <td>152.50</td>\n",
              "      <td>1709.0</td>\n",
              "      <td>0.1444</td>\n",
              "      <td>0.4245</td>\n",
              "      <td>0.4504</td>\n",
              "      <td>0.2430</td>\n",
              "      <td>0.3613</td>\n",
              "      <td>0.08758</td>\n",
              "    </tr>\n",
              "    <tr>\n",
              "      <th>3</th>\n",
              "      <td>11.42</td>\n",
              "      <td>20.38</td>\n",
              "      <td>77.58</td>\n",
              "      <td>386.1</td>\n",
              "      <td>0.14250</td>\n",
              "      <td>0.28390</td>\n",
              "      <td>0.2414</td>\n",
              "      <td>0.10520</td>\n",
              "      <td>0.2597</td>\n",
              "      <td>0.09744</td>\n",
              "      <td>0.4956</td>\n",
              "      <td>1.1560</td>\n",
              "      <td>3.445</td>\n",
              "      <td>27.23</td>\n",
              "      <td>0.009110</td>\n",
              "      <td>0.07458</td>\n",
              "      <td>0.05661</td>\n",
              "      <td>0.01867</td>\n",
              "      <td>0.05963</td>\n",
              "      <td>0.009208</td>\n",
              "      <td>14.91</td>\n",
              "      <td>26.50</td>\n",
              "      <td>98.87</td>\n",
              "      <td>567.7</td>\n",
              "      <td>0.2098</td>\n",
              "      <td>0.8663</td>\n",
              "      <td>0.6869</td>\n",
              "      <td>0.2575</td>\n",
              "      <td>0.6638</td>\n",
              "      <td>0.17300</td>\n",
              "    </tr>\n",
              "    <tr>\n",
              "      <th>4</th>\n",
              "      <td>20.29</td>\n",
              "      <td>14.34</td>\n",
              "      <td>135.10</td>\n",
              "      <td>1297.0</td>\n",
              "      <td>0.10030</td>\n",
              "      <td>0.13280</td>\n",
              "      <td>0.1980</td>\n",
              "      <td>0.10430</td>\n",
              "      <td>0.1809</td>\n",
              "      <td>0.05883</td>\n",
              "      <td>0.7572</td>\n",
              "      <td>0.7813</td>\n",
              "      <td>5.438</td>\n",
              "      <td>94.44</td>\n",
              "      <td>0.011490</td>\n",
              "      <td>0.02461</td>\n",
              "      <td>0.05688</td>\n",
              "      <td>0.01885</td>\n",
              "      <td>0.01756</td>\n",
              "      <td>0.005115</td>\n",
              "      <td>22.54</td>\n",
              "      <td>16.67</td>\n",
              "      <td>152.20</td>\n",
              "      <td>1575.0</td>\n",
              "      <td>0.1374</td>\n",
              "      <td>0.2050</td>\n",
              "      <td>0.4000</td>\n",
              "      <td>0.1625</td>\n",
              "      <td>0.2364</td>\n",
              "      <td>0.07678</td>\n",
              "    </tr>\n",
              "  </tbody>\n",
              "</table>\n",
              "</div>"
            ],
            "text/plain": [
              "   mean radius  mean texture  ...  worst symmetry  worst fractal dimension\n",
              "0        17.99         10.38  ...          0.4601                  0.11890\n",
              "1        20.57         17.77  ...          0.2750                  0.08902\n",
              "2        19.69         21.25  ...          0.3613                  0.08758\n",
              "3        11.42         20.38  ...          0.6638                  0.17300\n",
              "4        20.29         14.34  ...          0.2364                  0.07678\n",
              "\n",
              "[5 rows x 30 columns]"
            ]
          },
          "metadata": {
            "tags": []
          },
          "execution_count": 10
        }
      ]
    },
    {
      "cell_type": "code",
      "metadata": {
        "id": "R_FmU-jBVJca",
        "colab_type": "code",
        "outputId": "2f50a9cd-4db0-4aeb-eda2-7310a8e9412c",
        "colab": {
          "base_uri": "https://localhost:8080/",
          "height": 289
        }
      },
      "source": [
        "# dependent variable\n",
        "y = cancer.target\n",
        "print(y)"
      ],
      "execution_count": 11,
      "outputs": [
        {
          "output_type": "stream",
          "text": [
            "[0 0 0 0 0 0 0 0 0 0 0 0 0 0 0 0 0 0 0 1 1 1 0 0 0 0 0 0 0 0 0 0 0 0 0 0 0\n",
            " 1 0 0 0 0 0 0 0 0 1 0 1 1 1 1 1 0 0 1 0 0 1 1 1 1 0 1 0 0 1 1 1 1 0 1 0 0\n",
            " 1 0 1 0 0 1 1 1 0 0 1 0 0 0 1 1 1 0 1 1 0 0 1 1 1 0 0 1 1 1 1 0 1 1 0 1 1\n",
            " 1 1 1 1 1 1 0 0 0 1 0 0 1 1 1 0 0 1 0 1 0 0 1 0 0 1 1 0 1 1 0 1 1 1 1 0 1\n",
            " 1 1 1 1 1 1 1 1 0 1 1 1 1 0 0 1 0 1 1 0 0 1 1 0 0 1 1 1 1 0 1 1 0 0 0 1 0\n",
            " 1 0 1 1 1 0 1 1 0 0 1 0 0 0 0 1 0 0 0 1 0 1 0 1 1 0 1 0 0 0 0 1 1 0 0 1 1\n",
            " 1 0 1 1 1 1 1 0 0 1 1 0 1 1 0 0 1 0 1 1 1 1 0 1 1 1 1 1 0 1 0 0 0 0 0 0 0\n",
            " 0 0 0 0 0 0 0 1 1 1 1 1 1 0 1 0 1 1 0 1 1 0 1 0 0 1 1 1 1 1 1 1 1 1 1 1 1\n",
            " 1 0 1 1 0 1 0 1 1 1 1 1 1 1 1 1 1 1 1 1 1 0 1 1 1 0 1 0 1 1 1 1 0 0 0 1 1\n",
            " 1 1 0 1 0 1 0 1 1 1 0 1 1 1 1 1 1 1 0 0 0 1 1 1 1 1 1 1 1 1 1 1 0 0 1 0 0\n",
            " 0 1 0 0 1 1 1 1 1 0 1 1 1 1 1 0 1 1 1 0 1 1 0 0 1 1 1 1 1 1 0 1 1 1 1 1 1\n",
            " 1 0 1 1 1 1 1 0 1 1 0 1 1 1 1 1 1 1 1 1 1 1 1 0 1 0 0 1 0 1 1 1 1 1 0 1 1\n",
            " 0 1 0 1 1 0 1 0 1 1 1 1 1 1 1 1 0 0 1 1 1 1 1 1 0 1 1 1 1 1 1 1 1 1 1 0 1\n",
            " 1 1 1 1 1 1 0 1 0 1 1 0 1 1 1 1 1 0 0 1 0 1 0 1 1 1 1 1 0 1 1 0 1 0 1 0 0\n",
            " 1 1 1 0 1 1 1 1 1 1 1 1 1 1 1 0 1 0 0 1 1 1 1 1 1 1 1 1 1 1 1 1 1 1 1 1 1\n",
            " 1 1 1 1 1 1 1 0 0 0 0 0 0 1]\n"
          ],
          "name": "stdout"
        }
      ]
    },
    {
      "cell_type": "code",
      "metadata": {
        "id": "gUQ09wiwVU6S",
        "colab_type": "code",
        "outputId": "9343dbb4-f99f-421d-e819-1ba760127d06",
        "colab": {
          "base_uri": "https://localhost:8080/",
          "height": 34
        }
      },
      "source": [
        "cancer.target_names"
      ],
      "execution_count": 12,
      "outputs": [
        {
          "output_type": "execute_result",
          "data": {
            "text/plain": [
              "array(['malignant', 'benign'], dtype='<U9')"
            ]
          },
          "metadata": {
            "tags": []
          },
          "execution_count": 12
        }
      ]
    },
    {
      "cell_type": "code",
      "metadata": {
        "id": "4xROtLSXVc4o",
        "colab_type": "code",
        "outputId": "1c81fdbe-0e7f-4699-a652-e4d5df5516e5",
        "colab": {
          "base_uri": "https://localhost:8080/",
          "height": 34
        }
      },
      "source": [
        "x.shape, y.shape"
      ],
      "execution_count": 13,
      "outputs": [
        {
          "output_type": "execute_result",
          "data": {
            "text/plain": [
              "((569, 30), (569,))"
            ]
          },
          "metadata": {
            "tags": []
          },
          "execution_count": 13
        }
      ]
    },
    {
      "cell_type": "code",
      "metadata": {
        "id": "7ks7XT_3VvaB",
        "colab_type": "code",
        "colab": {}
      },
      "source": [
        "# splitting the dataset in train and test set\n",
        "from sklearn.model_selection import train_test_split\n",
        "x_train, x_test, y_train, y_test = train_test_split(x, y, test_size = 0.2, random_state = 0)"
      ],
      "execution_count": 0,
      "outputs": []
    },
    {
      "cell_type": "code",
      "metadata": {
        "id": "Iu13Nc-KWWsx",
        "colab_type": "code",
        "outputId": "f7238e66-3d52-4297-b36d-adaf29caa6a8",
        "colab": {
          "base_uri": "https://localhost:8080/",
          "height": 34
        }
      },
      "source": [
        "x_train.shape, x_test.shape"
      ],
      "execution_count": 15,
      "outputs": [
        {
          "output_type": "execute_result",
          "data": {
            "text/plain": [
              "((455, 30), (114, 30))"
            ]
          },
          "metadata": {
            "tags": []
          },
          "execution_count": 15
        }
      ]
    },
    {
      "cell_type": "code",
      "metadata": {
        "id": "XjonFEmlWh46",
        "colab_type": "code",
        "colab": {}
      },
      "source": [
        "# feature scaling\n",
        "from sklearn.preprocessing import StandardScaler\n",
        "sc = StandardScaler()\n",
        "x_train = sc.fit_transform(x_train)\n",
        "x_test = sc.transform(x_test)"
      ],
      "execution_count": 0,
      "outputs": []
    },
    {
      "cell_type": "code",
      "metadata": {
        "id": "IxnvnXCZX8HM",
        "colab_type": "code",
        "outputId": "eb8c67c8-3ceb-46ec-92d7-c0e14cd72c18",
        "colab": {
          "base_uri": "https://localhost:8080/",
          "height": 238
        }
      },
      "source": [
        "x_train"
      ],
      "execution_count": 17,
      "outputs": [
        {
          "output_type": "execute_result",
          "data": {
            "text/plain": [
              "array([[-1.15036482, -0.39064196, -1.12855021, ..., -0.75798367,\n",
              "        -0.01614761, -0.38503402],\n",
              "       [-0.93798972,  0.68051405, -0.94820146, ..., -0.60687023,\n",
              "         0.09669004, -0.38615797],\n",
              "       [ 0.574121  , -1.03333557,  0.51394098, ..., -0.02371948,\n",
              "        -0.20050207, -0.75144254],\n",
              "       ...,\n",
              "       [-1.32422924, -0.20048168, -1.31754581, ..., -0.97974953,\n",
              "        -0.71542314, -0.11978123],\n",
              "       [-1.24380987, -0.2245526 , -1.28007609, ..., -1.75401433,\n",
              "        -1.58157125, -1.00601779],\n",
              "       [-0.73694129,  1.14989702, -0.71226578, ..., -0.27460457,\n",
              "        -1.25895095,  0.21515662]])"
            ]
          },
          "metadata": {
            "tags": []
          },
          "execution_count": 17
        }
      ]
    },
    {
      "cell_type": "code",
      "metadata": {
        "id": "uJ4izo7BX_eg",
        "colab_type": "code",
        "outputId": "6f0cf875-6fa3-40c4-b626-2ebd74f82a86",
        "colab": {
          "base_uri": "https://localhost:8080/",
          "height": 34
        }
      },
      "source": [
        "x_train.shape, x_test.shape"
      ],
      "execution_count": 18,
      "outputs": [
        {
          "output_type": "execute_result",
          "data": {
            "text/plain": [
              "((455, 30), (114, 30))"
            ]
          },
          "metadata": {
            "tags": []
          },
          "execution_count": 18
        }
      ]
    },
    {
      "cell_type": "code",
      "metadata": {
        "id": "DXd9L6K-YQek",
        "colab_type": "code",
        "colab": {}
      },
      "source": [
        "x_train = x_train.reshape(455, 30, 1)\n",
        "x_test = x_test.reshape(114, 30, 1)\n"
      ],
      "execution_count": 0,
      "outputs": []
    },
    {
      "cell_type": "code",
      "metadata": {
        "id": "j3rLp6asYcks",
        "colab_type": "code",
        "outputId": "9a35ae34-f1d9-4063-dfda-cd3e7f7b7199",
        "colab": {
          "base_uri": "https://localhost:8080/",
          "height": 34
        }
      },
      "source": [
        "x_train.shape, x_test.shape"
      ],
      "execution_count": 20,
      "outputs": [
        {
          "output_type": "execute_result",
          "data": {
            "text/plain": [
              "((455, 30, 1), (114, 30, 1))"
            ]
          },
          "metadata": {
            "tags": []
          },
          "execution_count": 20
        }
      ]
    },
    {
      "cell_type": "markdown",
      "metadata": {
        "id": "PNx5AHjNdKZx",
        "colab_type": "text"
      },
      "source": [
        "# Step 3: Building the model"
      ]
    },
    {
      "cell_type": "code",
      "metadata": {
        "id": "h954pOcmdPlh",
        "colab_type": "code",
        "colab": {}
      },
      "source": [
        "# define an object\n",
        "model = tf.keras.models.Sequential()"
      ],
      "execution_count": 0,
      "outputs": []
    },
    {
      "cell_type": "code",
      "metadata": {
        "id": "_Q895bFJdl5p",
        "colab_type": "code",
        "colab": {}
      },
      "source": [
        "# First CNN layer\n",
        "model.add(tf.keras.layers.Conv1D(filters=32, kernel_size=2, activation='relu', input_shape = (30, 1)))\n",
        "\n",
        "# batch normalization\n",
        "model.add(tf.keras.layers.BatchNormalization())\n",
        "\n",
        "# dropout layer\n",
        "model.add(tf.keras.layers.Dropout(0.2))"
      ],
      "execution_count": 0,
      "outputs": []
    },
    {
      "cell_type": "code",
      "metadata": {
        "id": "rwtDz7_DfpCu",
        "colab_type": "code",
        "colab": {}
      },
      "source": [
        "# second CNN layer\n",
        "model.add(tf.keras.layers.Conv1D(filters=64, kernel_size=2, activation='relu'))\n",
        "\n",
        "# batch normalization\n",
        "model.add(tf.keras.layers.BatchNormalization())\n",
        "\n",
        "# dropout layer\n",
        "model.add(tf.keras.layers.Dropout(0.4))"
      ],
      "execution_count": 0,
      "outputs": []
    },
    {
      "cell_type": "code",
      "metadata": {
        "id": "vmvK-_Nof4rA",
        "colab_type": "code",
        "colab": {}
      },
      "source": [
        "# flatten layer\n",
        "model.add(tf.keras.layers.Flatten())"
      ],
      "execution_count": 0,
      "outputs": []
    },
    {
      "cell_type": "code",
      "metadata": {
        "id": "jZVh2Fhmf__v",
        "colab_type": "code",
        "colab": {}
      },
      "source": [
        "# dense layer\n",
        "model.add(tf.keras.layers.Dense(units=64, activation='relu'))\n",
        "\n",
        "# output layer\n",
        "model.add(tf.keras.layers.Dense(units=1, activation='sigmoid'))\n"
      ],
      "execution_count": 0,
      "outputs": []
    },
    {
      "cell_type": "code",
      "metadata": {
        "id": "BNylJnUggm1K",
        "colab_type": "code",
        "outputId": "1562e2f5-6cf1-4a59-ea42-5252201a7468",
        "colab": {
          "base_uri": "https://localhost:8080/",
          "height": 459
        }
      },
      "source": [
        "model.summary()"
      ],
      "execution_count": 26,
      "outputs": [
        {
          "output_type": "stream",
          "text": [
            "Model: \"sequential\"\n",
            "_________________________________________________________________\n",
            "Layer (type)                 Output Shape              Param #   \n",
            "=================================================================\n",
            "conv1d (Conv1D)              (None, 29, 32)            96        \n",
            "_________________________________________________________________\n",
            "batch_normalization (BatchNo (None, 29, 32)            128       \n",
            "_________________________________________________________________\n",
            "dropout (Dropout)            (None, 29, 32)            0         \n",
            "_________________________________________________________________\n",
            "conv1d_1 (Conv1D)            (None, 28, 64)            4160      \n",
            "_________________________________________________________________\n",
            "batch_normalization_1 (Batch (None, 28, 64)            256       \n",
            "_________________________________________________________________\n",
            "dropout_1 (Dropout)          (None, 28, 64)            0         \n",
            "_________________________________________________________________\n",
            "flatten (Flatten)            (None, 1792)              0         \n",
            "_________________________________________________________________\n",
            "dense (Dense)                (None, 64)                114752    \n",
            "_________________________________________________________________\n",
            "dense_1 (Dense)              (None, 1)                 65        \n",
            "=================================================================\n",
            "Total params: 119,457\n",
            "Trainable params: 119,265\n",
            "Non-trainable params: 192\n",
            "_________________________________________________________________\n"
          ],
          "name": "stdout"
        }
      ]
    },
    {
      "cell_type": "code",
      "metadata": {
        "id": "nUehDfmWgxKT",
        "colab_type": "code",
        "colab": {}
      },
      "source": [
        "# compile model\n",
        "\n",
        "opt = tf.keras.optimizers.Adam(learning_rate=0.00005)\n",
        "\n",
        "model.compile(optimizer=opt, loss='binary_crossentropy', metrics=['accuracy'])"
      ],
      "execution_count": 0,
      "outputs": []
    },
    {
      "cell_type": "markdown",
      "metadata": {
        "id": "azeGHK4Eh6oi",
        "colab_type": "text"
      },
      "source": [
        "# Step 4: Training the model"
      ]
    },
    {
      "cell_type": "code",
      "metadata": {
        "id": "O6Vxb11NtDGv",
        "colab_type": "code",
        "colab": {}
      },
      "source": [
        "epochs=50"
      ],
      "execution_count": 0,
      "outputs": []
    },
    {
      "cell_type": "code",
      "metadata": {
        "id": "YTTssFtipPDw",
        "colab_type": "code",
        "outputId": "0b5d3d4f-7873-4880-f7d8-e00d1eec1a3a",
        "colab": {
          "base_uri": "https://localhost:8080/",
          "height": 1000
        }
      },
      "source": [
        "history =  model.fit(x_train, y_train, epochs=epochs, validation_data=(x_test, y_test))"
      ],
      "execution_count": 29,
      "outputs": [
        {
          "output_type": "stream",
          "text": [
            "Train on 455 samples, validate on 114 samples\n",
            "Epoch 1/50\n",
            "455/455 [==============================] - 7s 15ms/sample - loss: 0.5677 - accuracy: 0.7143 - val_loss: 0.6213 - val_accuracy: 0.9211\n",
            "Epoch 2/50\n",
            "455/455 [==============================] - 0s 190us/sample - loss: 0.3302 - accuracy: 0.8615 - val_loss: 0.5726 - val_accuracy: 0.9298\n",
            "Epoch 3/50\n",
            "455/455 [==============================] - 0s 182us/sample - loss: 0.2337 - accuracy: 0.9033 - val_loss: 0.5327 - val_accuracy: 0.9474\n",
            "Epoch 4/50\n",
            "455/455 [==============================] - 0s 169us/sample - loss: 0.2061 - accuracy: 0.9209 - val_loss: 0.4966 - val_accuracy: 0.9474\n",
            "Epoch 5/50\n",
            "455/455 [==============================] - 0s 190us/sample - loss: 0.1712 - accuracy: 0.9407 - val_loss: 0.4624 - val_accuracy: 0.9386\n",
            "Epoch 6/50\n",
            "455/455 [==============================] - 0s 180us/sample - loss: 0.1557 - accuracy: 0.9319 - val_loss: 0.4274 - val_accuracy: 0.9386\n",
            "Epoch 7/50\n",
            "455/455 [==============================] - 0s 200us/sample - loss: 0.1521 - accuracy: 0.9582 - val_loss: 0.3943 - val_accuracy: 0.9386\n",
            "Epoch 8/50\n",
            "455/455 [==============================] - 0s 170us/sample - loss: 0.1319 - accuracy: 0.9473 - val_loss: 0.3636 - val_accuracy: 0.9386\n",
            "Epoch 9/50\n",
            "455/455 [==============================] - 0s 172us/sample - loss: 0.1150 - accuracy: 0.9560 - val_loss: 0.3341 - val_accuracy: 0.9211\n",
            "Epoch 10/50\n",
            "455/455 [==============================] - 0s 175us/sample - loss: 0.1376 - accuracy: 0.9560 - val_loss: 0.3078 - val_accuracy: 0.9386\n",
            "Epoch 11/50\n",
            "455/455 [==============================] - 0s 182us/sample - loss: 0.1265 - accuracy: 0.9516 - val_loss: 0.2837 - val_accuracy: 0.9386\n",
            "Epoch 12/50\n",
            "455/455 [==============================] - 0s 172us/sample - loss: 0.1137 - accuracy: 0.9495 - val_loss: 0.2613 - val_accuracy: 0.9386\n",
            "Epoch 13/50\n",
            "455/455 [==============================] - 0s 187us/sample - loss: 0.1044 - accuracy: 0.9626 - val_loss: 0.2408 - val_accuracy: 0.9386\n",
            "Epoch 14/50\n",
            "455/455 [==============================] - 0s 193us/sample - loss: 0.1078 - accuracy: 0.9692 - val_loss: 0.2223 - val_accuracy: 0.9386\n",
            "Epoch 15/50\n",
            "455/455 [==============================] - 0s 201us/sample - loss: 0.0996 - accuracy: 0.9670 - val_loss: 0.2070 - val_accuracy: 0.9474\n",
            "Epoch 16/50\n",
            "455/455 [==============================] - 0s 174us/sample - loss: 0.1048 - accuracy: 0.9692 - val_loss: 0.1964 - val_accuracy: 0.9386\n",
            "Epoch 17/50\n",
            "455/455 [==============================] - 0s 193us/sample - loss: 0.0926 - accuracy: 0.9604 - val_loss: 0.1842 - val_accuracy: 0.9474\n",
            "Epoch 18/50\n",
            "455/455 [==============================] - 0s 187us/sample - loss: 0.0880 - accuracy: 0.9714 - val_loss: 0.1714 - val_accuracy: 0.9474\n",
            "Epoch 19/50\n",
            "455/455 [==============================] - 0s 194us/sample - loss: 0.0884 - accuracy: 0.9736 - val_loss: 0.1597 - val_accuracy: 0.9474\n",
            "Epoch 20/50\n",
            "455/455 [==============================] - 0s 181us/sample - loss: 0.0819 - accuracy: 0.9714 - val_loss: 0.1504 - val_accuracy: 0.9474\n",
            "Epoch 21/50\n",
            "455/455 [==============================] - 0s 174us/sample - loss: 0.0758 - accuracy: 0.9758 - val_loss: 0.1404 - val_accuracy: 0.9474\n",
            "Epoch 22/50\n",
            "455/455 [==============================] - 0s 178us/sample - loss: 0.0849 - accuracy: 0.9670 - val_loss: 0.1331 - val_accuracy: 0.9474\n",
            "Epoch 23/50\n",
            "455/455 [==============================] - 0s 192us/sample - loss: 0.0859 - accuracy: 0.9714 - val_loss: 0.1246 - val_accuracy: 0.9474\n",
            "Epoch 24/50\n",
            "455/455 [==============================] - 0s 179us/sample - loss: 0.0930 - accuracy: 0.9670 - val_loss: 0.1191 - val_accuracy: 0.9474\n",
            "Epoch 25/50\n",
            "455/455 [==============================] - 0s 183us/sample - loss: 0.1135 - accuracy: 0.9582 - val_loss: 0.1141 - val_accuracy: 0.9474\n",
            "Epoch 26/50\n",
            "455/455 [==============================] - 0s 181us/sample - loss: 0.0722 - accuracy: 0.9758 - val_loss: 0.1092 - val_accuracy: 0.9474\n",
            "Epoch 27/50\n",
            "455/455 [==============================] - 0s 182us/sample - loss: 0.0804 - accuracy: 0.9626 - val_loss: 0.1031 - val_accuracy: 0.9649\n",
            "Epoch 28/50\n",
            "455/455 [==============================] - 0s 169us/sample - loss: 0.0813 - accuracy: 0.9692 - val_loss: 0.0995 - val_accuracy: 0.9649\n",
            "Epoch 29/50\n",
            "455/455 [==============================] - 0s 178us/sample - loss: 0.0748 - accuracy: 0.9780 - val_loss: 0.0976 - val_accuracy: 0.9649\n",
            "Epoch 30/50\n",
            "455/455 [==============================] - 0s 168us/sample - loss: 0.0772 - accuracy: 0.9626 - val_loss: 0.1006 - val_accuracy: 0.9649\n",
            "Epoch 31/50\n",
            "455/455 [==============================] - 0s 187us/sample - loss: 0.0755 - accuracy: 0.9780 - val_loss: 0.0971 - val_accuracy: 0.9649\n",
            "Epoch 32/50\n",
            "455/455 [==============================] - 0s 179us/sample - loss: 0.0692 - accuracy: 0.9780 - val_loss: 0.0935 - val_accuracy: 0.9737\n",
            "Epoch 33/50\n",
            "455/455 [==============================] - 0s 184us/sample - loss: 0.0698 - accuracy: 0.9780 - val_loss: 0.0925 - val_accuracy: 0.9737\n",
            "Epoch 34/50\n",
            "455/455 [==============================] - 0s 174us/sample - loss: 0.0750 - accuracy: 0.9692 - val_loss: 0.0906 - val_accuracy: 0.9737\n",
            "Epoch 35/50\n",
            "455/455 [==============================] - 0s 171us/sample - loss: 0.0812 - accuracy: 0.9758 - val_loss: 0.0889 - val_accuracy: 0.9737\n",
            "Epoch 36/50\n",
            "455/455 [==============================] - 0s 185us/sample - loss: 0.0562 - accuracy: 0.9824 - val_loss: 0.0869 - val_accuracy: 0.9737\n",
            "Epoch 37/50\n",
            "455/455 [==============================] - 0s 179us/sample - loss: 0.0603 - accuracy: 0.9824 - val_loss: 0.0852 - val_accuracy: 0.9737\n",
            "Epoch 38/50\n",
            "455/455 [==============================] - 0s 180us/sample - loss: 0.0599 - accuracy: 0.9780 - val_loss: 0.0853 - val_accuracy: 0.9737\n",
            "Epoch 39/50\n",
            "455/455 [==============================] - 0s 184us/sample - loss: 0.0620 - accuracy: 0.9736 - val_loss: 0.0836 - val_accuracy: 0.9737\n",
            "Epoch 40/50\n",
            "455/455 [==============================] - 0s 188us/sample - loss: 0.0582 - accuracy: 0.9780 - val_loss: 0.0832 - val_accuracy: 0.9737\n",
            "Epoch 41/50\n",
            "455/455 [==============================] - 0s 195us/sample - loss: 0.0573 - accuracy: 0.9780 - val_loss: 0.0835 - val_accuracy: 0.9737\n",
            "Epoch 42/50\n",
            "455/455 [==============================] - 0s 189us/sample - loss: 0.0706 - accuracy: 0.9780 - val_loss: 0.0846 - val_accuracy: 0.9737\n",
            "Epoch 43/50\n",
            "455/455 [==============================] - 0s 201us/sample - loss: 0.0609 - accuracy: 0.9802 - val_loss: 0.0840 - val_accuracy: 0.9737\n",
            "Epoch 44/50\n",
            "455/455 [==============================] - 0s 173us/sample - loss: 0.0554 - accuracy: 0.9802 - val_loss: 0.0819 - val_accuracy: 0.9737\n",
            "Epoch 45/50\n",
            "455/455 [==============================] - 0s 175us/sample - loss: 0.0548 - accuracy: 0.9802 - val_loss: 0.0811 - val_accuracy: 0.9649\n",
            "Epoch 46/50\n",
            "455/455 [==============================] - 0s 198us/sample - loss: 0.0592 - accuracy: 0.9824 - val_loss: 0.0805 - val_accuracy: 0.9649\n",
            "Epoch 47/50\n",
            "455/455 [==============================] - 0s 177us/sample - loss: 0.0563 - accuracy: 0.9802 - val_loss: 0.0832 - val_accuracy: 0.9737\n",
            "Epoch 48/50\n",
            "455/455 [==============================] - 0s 176us/sample - loss: 0.0612 - accuracy: 0.9824 - val_loss: 0.0832 - val_accuracy: 0.9737\n",
            "Epoch 49/50\n",
            "455/455 [==============================] - 0s 170us/sample - loss: 0.0673 - accuracy: 0.9780 - val_loss: 0.0817 - val_accuracy: 0.9737\n",
            "Epoch 50/50\n",
            "455/455 [==============================] - 0s 174us/sample - loss: 0.0479 - accuracy: 0.9846 - val_loss: 0.0808 - val_accuracy: 0.9737\n"
          ],
          "name": "stdout"
        }
      ]
    },
    {
      "cell_type": "markdown",
      "metadata": {
        "id": "bTbu2usVp82d",
        "colab_type": "text"
      },
      "source": [
        "# Step 5: Model Prediction"
      ]
    },
    {
      "cell_type": "code",
      "metadata": {
        "id": "xExs4qhLp_t2",
        "colab_type": "code",
        "colab": {}
      },
      "source": [
        "y_pred = model.predict_classes(x_test)"
      ],
      "execution_count": 0,
      "outputs": []
    },
    {
      "cell_type": "code",
      "metadata": {
        "id": "WIXY-w3VqGG7",
        "colab_type": "code",
        "outputId": "04111b7b-6c60-49e0-8f9c-9d117deea934",
        "colab": {
          "base_uri": "https://localhost:8080/",
          "height": 68
        }
      },
      "source": [
        "print(y_pred[12]), print(y_test[12])"
      ],
      "execution_count": 31,
      "outputs": [
        {
          "output_type": "stream",
          "text": [
            "[1]\n",
            "1\n"
          ],
          "name": "stdout"
        },
        {
          "output_type": "execute_result",
          "data": {
            "text/plain": [
              "(None, None)"
            ]
          },
          "metadata": {
            "tags": []
          },
          "execution_count": 31
        }
      ]
    },
    {
      "cell_type": "code",
      "metadata": {
        "id": "qmxh0d9GqeZF",
        "colab_type": "code",
        "outputId": "b9c94e56-a391-4a46-d4f2-34a51cf72ada",
        "colab": {
          "base_uri": "https://localhost:8080/",
          "height": 34
        }
      },
      "source": [
        "cancer.target_names"
      ],
      "execution_count": 32,
      "outputs": [
        {
          "output_type": "execute_result",
          "data": {
            "text/plain": [
              "array(['malignant', 'benign'], dtype='<U9')"
            ]
          },
          "metadata": {
            "tags": []
          },
          "execution_count": 32
        }
      ]
    },
    {
      "cell_type": "code",
      "metadata": {
        "id": "oBfs8YhxqoaT",
        "colab_type": "code",
        "outputId": "970e4dc8-281c-4442-b65e-9b9cbe4ed07c",
        "colab": {
          "base_uri": "https://localhost:8080/",
          "height": 51
        }
      },
      "source": [
        "# confusion matrix\n",
        "from sklearn.metrics import confusion_matrix, accuracy_score\n",
        "cm = confusion_matrix(y_test, y_pred)\n",
        "print(cm)"
      ],
      "execution_count": 33,
      "outputs": [
        {
          "output_type": "stream",
          "text": [
            "[[44  3]\n",
            " [ 0 67]]\n"
          ],
          "name": "stdout"
        }
      ]
    },
    {
      "cell_type": "code",
      "metadata": {
        "id": "I2UVJTIkq_Vb",
        "colab_type": "code",
        "outputId": "aab150d8-d9ea-41c3-dda8-9ae6f2eded24",
        "colab": {
          "base_uri": "https://localhost:8080/",
          "height": 34
        }
      },
      "source": [
        "acc_cm = accuracy_score(y_test, y_pred)\n",
        "print(acc_cm)"
      ],
      "execution_count": 34,
      "outputs": [
        {
          "output_type": "stream",
          "text": [
            "0.9736842105263158\n"
          ],
          "name": "stdout"
        }
      ]
    },
    {
      "cell_type": "markdown",
      "metadata": {
        "id": "6IwcFfwwrhez",
        "colab_type": "text"
      },
      "source": [
        "# Stpe 6: Learning curve"
      ]
    },
    {
      "cell_type": "code",
      "metadata": {
        "id": "ZESGUHumrkzy",
        "colab_type": "code",
        "colab": {}
      },
      "source": [
        "def learning_curve(history, epoch):\n",
        "\n",
        "  # training vs validation accuracy\n",
        "  epoch_range = range(1, epoch+1)\n",
        "  plt.plot(epoch_range, history.history['accuracy'])\n",
        "  plt.plot(epoch_range, history.history['val_accuracy'])\n",
        "  plt.title('Model Accuracy')\n",
        "  plt.ylabel('Accuracy')\n",
        "  plt.xlabel('Epoch')\n",
        "  plt.legend(['Train', 'val'], loc='upper left')\n",
        "  plt.show()\n",
        "\n",
        "  # training vs validation loss\n",
        "  plt.plot(epoch_range, history.history['loss'])\n",
        "  plt.plot(epoch_range, history.history['val_loss'])\n",
        "  plt.title('Model Loss')\n",
        "  plt.ylabel('Loss')\n",
        "  plt.xlabel('Epoch')\n",
        "  plt.legend(['Train', 'val'], loc='upper left')\n",
        "  plt.show()"
      ],
      "execution_count": 0,
      "outputs": []
    },
    {
      "cell_type": "code",
      "metadata": {
        "id": "UsPtTcKVrzMi",
        "colab_type": "code",
        "outputId": "42d103be-8723-4d7a-91f0-ddaadd5c7366",
        "colab": {
          "base_uri": "https://localhost:8080/",
          "height": 573
        }
      },
      "source": [
        "learning_curve(history, epochs)"
      ],
      "execution_count": 36,
      "outputs": [
        {
          "output_type": "display_data",
          "data": {
            "image/png": "[encoded data removed]",
            "text/plain": [
              "<Figure size 432x288 with 1 Axes>"
            ]
          },
          "metadata": {
            "tags": [],
            "needs_background": "light"
          }
        },
        {
          "output_type": "display_data",
          "data": {
            "image/png": "[encoded data removed]",
            "text/plain": [
              "<Figure size 432x288 with 1 Axes>"
            ]
          },
          "metadata": {
            "tags": [],
            "needs_background": "light"
          }
        }
      ]
    }
  ]
}