{
  "nbformat": 4,
  "nbformat_minor": 0,
  "metadata": {
    "colab": {
      "name": "Convolutional_Neural_Network_cifar10.ipynb",
      "provenance": [],
      "collapsed_sections": [],
      "toc_visible": true
    },
    "kernelspec": {
      "name": "python3",
      "display_name": "Python 3"
    },
    "accelerator": "TPU"
  },
  "cells": [
    {
      "cell_type": "markdown",
      "metadata": {
        "id": "LliqnvsLv8G4",
        "colab_type": "text"
      },
      "source": [
        "# Step 1: Installation and Setup"
      ]
    },
    {
      "cell_type": "code",
      "metadata": {
        "id": "hPSs-8FdxHNF",
        "colab_type": "code",
        "colab": {}
      },
      "source": [
        "# Installing TensorFlow\n",
        "!pip -q install tensorflow-gpu"
      ],
      "execution_count": 0,
      "outputs": []
    },
    {
      "cell_type": "code",
      "metadata": {
        "id": "qL579D-2yI_h",
        "colab_type": "code",
        "outputId": "83f2d1b3-0bf8-43eb-f499-373464492b45",
        "colab": {
          "base_uri": "https://localhost:8080/",
          "height": 34
        }
      },
      "source": [
        "import tensorflow as tf\n",
        "print(tf.__version__)"
      ],
      "execution_count": 2,
      "outputs": [
        {
          "output_type": "stream",
          "text": [
            "2.1.0\n"
          ],
          "name": "stdout"
        }
      ]
    },
    {
      "cell_type": "code",
      "metadata": {
        "id": "dD5Q9rozyRjM",
        "colab_type": "code",
        "colab": {}
      },
      "source": [
        "import numpy as np\n",
        "import pandas as pd\n",
        "import matplotlib.pyplot as plt"
      ],
      "execution_count": 0,
      "outputs": []
    },
    {
      "cell_type": "markdown",
      "metadata": {
        "id": "7kQ_nSEgyse9",
        "colab_type": "text"
      },
      "source": [
        "# Step 2: Data Preprocessing"
      ]
    },
    {
      "cell_type": "code",
      "metadata": {
        "id": "vwWJyC3oyv5s",
        "colab_type": "code",
        "colab": {}
      },
      "source": [
        "# Importing the dataset\n",
        "from tensorflow.keras.datasets import cifar10"
      ],
      "execution_count": 0,
      "outputs": []
    },
    {
      "cell_type": "code",
      "metadata": {
        "id": "ZkqF3-oYzhOR",
        "colab_type": "code",
        "colab": {}
      },
      "source": [
        "# Loading the dataset\n",
        "(x_train, y_train), (x_test, y_test) = cifar10.load_data()"
      ],
      "execution_count": 0,
      "outputs": []
    },
    {
      "cell_type": "code",
      "metadata": {
        "id": "ApRhZDR90XbS",
        "colab_type": "code",
        "colab": {}
      },
      "source": [
        "class_names = ['0: airplane', '1: automobile', '2: bird', '3: cat', '4: deer', '5: dog', '6: frog', '7: horse', '8: ship', '9: truck']"
      ],
      "execution_count": 0,
      "outputs": []
    },
    {
      "cell_type": "code",
      "metadata": {
        "id": "_1GtGB7C0fo6",
        "colab_type": "code",
        "outputId": "264b5c07-adbd-42c4-9e59-3e65e9e2a73e",
        "colab": {
          "base_uri": "https://localhost:8080/",
          "height": 34
        }
      },
      "source": [
        "print(class_names)"
      ],
      "execution_count": 7,
      "outputs": [
        {
          "output_type": "stream",
          "text": [
            "['0: airplane', '1: automobile', '2: bird', '3: cat', '4: deer', '5: dog', '6: frog', '7: horse', '8: ship', '9: truck']\n"
          ],
          "name": "stdout"
        }
      ]
    },
    {
      "cell_type": "code",
      "metadata": {
        "id": "HnddwiOj0pNb",
        "colab_type": "code",
        "outputId": "42e7ac65-972d-46fd-bc44-cb34c297741c",
        "colab": {
          "base_uri": "https://localhost:8080/",
          "height": 34
        }
      },
      "source": [
        "x_train.max(), x_train.min(), x_train.mean()"
      ],
      "execution_count": 8,
      "outputs": [
        {
          "output_type": "execute_result",
          "data": {
            "text/plain": [
              "(255, 0, 120.70756512369792)"
            ]
          },
          "metadata": {
            "tags": []
          },
          "execution_count": 8
        }
      ]
    },
    {
      "cell_type": "code",
      "metadata": {
        "id": "yZQNvNT308Oz",
        "colab_type": "code",
        "outputId": "8f3d4f88-3ecc-4d46-e2aa-fec59292271b",
        "colab": {
          "base_uri": "https://localhost:8080/",
          "height": 34
        }
      },
      "source": [
        "y_train.max(), y_train.min()"
      ],
      "execution_count": 9,
      "outputs": [
        {
          "output_type": "execute_result",
          "data": {
            "text/plain": [
              "(9, 0)"
            ]
          },
          "metadata": {
            "tags": []
          },
          "execution_count": 9
        }
      ]
    },
    {
      "cell_type": "code",
      "metadata": {
        "id": "XAtkBZJk1DBO",
        "colab_type": "code",
        "outputId": "ac132772-ee36-49d2-f6b6-3a29587e2830",
        "colab": {
          "base_uri": "https://localhost:8080/",
          "height": 187
        }
      },
      "source": [
        "class_names"
      ],
      "execution_count": 10,
      "outputs": [
        {
          "output_type": "execute_result",
          "data": {
            "text/plain": [
              "['0: airplane',\n",
              " '1: automobile',\n",
              " '2: bird',\n",
              " '3: cat',\n",
              " '4: deer',\n",
              " '5: dog',\n",
              " '6: frog',\n",
              " '7: horse',\n",
              " '8: ship',\n",
              " '9: truck']"
            ]
          },
          "metadata": {
            "tags": []
          },
          "execution_count": 10
        }
      ]
    },
    {
      "cell_type": "code",
      "metadata": {
        "id": "lC56KF2E1REr",
        "colab_type": "code",
        "colab": {}
      },
      "source": [
        "# Normalizing the images\n",
        "x_train = x_train / 255.0\n",
        "x_test = x_test / 255.0"
      ],
      "execution_count": 0,
      "outputs": []
    },
    {
      "cell_type": "code",
      "metadata": {
        "id": "iqk32dB_1oEb",
        "colab_type": "code",
        "outputId": "ed82440f-4518-423d-bd14-3358c1de1814",
        "colab": {
          "base_uri": "https://localhost:8080/",
          "height": 34
        }
      },
      "source": [
        "x_train.max(), x_train.min(), x_train.mean()"
      ],
      "execution_count": 12,
      "outputs": [
        {
          "output_type": "execute_result",
          "data": {
            "text/plain": [
              "(1.0, 0.0, 0.4733630004850874)"
            ]
          },
          "metadata": {
            "tags": []
          },
          "execution_count": 12
        }
      ]
    },
    {
      "cell_type": "code",
      "metadata": {
        "id": "iYLZJt4f199h",
        "colab_type": "code",
        "outputId": "ca72bb22-5f66-4e00-dd72-707b7c857253",
        "colab": {
          "base_uri": "https://localhost:8080/",
          "height": 34
        }
      },
      "source": [
        "x_train.shape, x_test.shape"
      ],
      "execution_count": 13,
      "outputs": [
        {
          "output_type": "execute_result",
          "data": {
            "text/plain": [
              "((50000, 32, 32, 3), (10000, 32, 32, 3))"
            ]
          },
          "metadata": {
            "tags": []
          },
          "execution_count": 13
        }
      ]
    },
    {
      "cell_type": "code",
      "metadata": {
        "id": "nULJtIqi2Vtr",
        "colab_type": "code",
        "outputId": "057815f8-6488-479b-f93a-ac4e35c93dd1",
        "colab": {
          "base_uri": "https://localhost:8080/",
          "height": 283
        }
      },
      "source": [
        "plt.imshow(x_train[0])"
      ],
      "execution_count": 14,
      "outputs": [
        {
          "output_type": "execute_result",
          "data": {
            "text/plain": [
              "<matplotlib.image.AxesImage at 0x7fd39cc2fcf8>"
            ]
          },
          "metadata": {
            "tags": []
          },
          "execution_count": 14
        },
        {
          "output_type": "display_data",
          "data": {
            "image/png": "[encoded data removed]",
            "text/plain": [
              "<Figure size 432x288 with 1 Axes>"
            ]
          },
          "metadata": {
            "tags": [],
            "needs_background": "light"
          }
        }
      ]
    },
    {
      "cell_type": "code",
      "metadata": {
        "id": "oqbhnulY2eqC",
        "colab_type": "code",
        "outputId": "58ceb37a-a6ec-4282-9fb5-a46a55addefc",
        "colab": {
          "base_uri": "https://localhost:8080/",
          "height": 34
        }
      },
      "source": [
        "y_train[0]"
      ],
      "execution_count": 15,
      "outputs": [
        {
          "output_type": "execute_result",
          "data": {
            "text/plain": [
              "array([6], dtype=uint8)"
            ]
          },
          "metadata": {
            "tags": []
          },
          "execution_count": 15
        }
      ]
    },
    {
      "cell_type": "code",
      "metadata": {
        "id": "ixVsYIGh2isd",
        "colab_type": "code",
        "outputId": "0ea6950c-2478-4ab3-8741-2cbfdc028639",
        "colab": {
          "base_uri": "https://localhost:8080/",
          "height": 187
        }
      },
      "source": [
        "class_names"
      ],
      "execution_count": 16,
      "outputs": [
        {
          "output_type": "execute_result",
          "data": {
            "text/plain": [
              "['0: airplane',\n",
              " '1: automobile',\n",
              " '2: bird',\n",
              " '3: cat',\n",
              " '4: deer',\n",
              " '5: dog',\n",
              " '6: frog',\n",
              " '7: horse',\n",
              " '8: ship',\n",
              " '9: truck']"
            ]
          },
          "metadata": {
            "tags": []
          },
          "execution_count": 16
        }
      ]
    },
    {
      "cell_type": "markdown",
      "metadata": {
        "id": "DvrxiGmU3med",
        "colab_type": "text"
      },
      "source": [
        "# Step 3: Building the CNN"
      ]
    },
    {
      "cell_type": "code",
      "metadata": {
        "id": "-aTAPWYa3pHc",
        "colab_type": "code",
        "colab": {}
      },
      "source": [
        "# Defining the object\n",
        "model = tf.keras.models.Sequential()\n"
      ],
      "execution_count": 0,
      "outputs": []
    },
    {
      "cell_type": "code",
      "metadata": {
        "id": "g3UAORGz6vlt",
        "colab_type": "code",
        "colab": {}
      },
      "source": [
        "# Adding first CCN layer\n",
        "# 1) filters (kernel) = 32\n",
        "# 2) kernal size = 3\n",
        "# 3) padding = same\n",
        "# 4) activation = ReLU\n",
        "# 5) input shape = (32, 32, 3)\n",
        "\n",
        "model.add(tf.keras.layers.Conv2D(filters=32, kernel_size=3, padding='same', activation='relu', input_shape = [32, 32, 3]))"
      ],
      "execution_count": 0,
      "outputs": []
    },
    {
      "cell_type": "code",
      "metadata": {
        "id": "DkvH1Wsd-gg1",
        "colab_type": "code",
        "colab": {}
      },
      "source": [
        "# Adding second CNN layer and maxpool layer\n",
        "# 1) filters (kernel) = 32\n",
        "# 2) kernal size = 3\n",
        "# 3) padding = same\n",
        "# 4) activation = ReLU\n",
        "\n",
        "model.add(tf.keras.layers.Conv2D(filters=32, kernel_size=3, padding='same', activation='relu'))\n",
        "\n",
        "# maxpool layer parameters,\n",
        "# 1) pool size = 2\n",
        "# 2) strides = 2\n",
        "# 3) padding = valid\n",
        "\n",
        "model.add(tf.keras.layers.MaxPool2D(pool_size=2, strides=2, padding='valid'))"
      ],
      "execution_count": 0,
      "outputs": []
    },
    {
      "cell_type": "code",
      "metadata": {
        "id": "jItDE9R4_8eH",
        "colab_type": "code",
        "colab": {}
      },
      "source": [
        "# Adding third CNN layer\n",
        "# 1) filters (kernel) = 64\n",
        "# 2) kernal size = 3\n",
        "# 3) padding = same\n",
        "# 4) activation = ReLU\n",
        "\n",
        "model.add(tf.keras.layers.Conv2D(filters=64, kernel_size=3, padding='same', activation='relu'))"
      ],
      "execution_count": 0,
      "outputs": []
    },
    {
      "cell_type": "code",
      "metadata": {
        "id": "fPB9MkbYARpN",
        "colab_type": "code",
        "colab": {}
      },
      "source": [
        "# Adding fourth CNN layer and maxpool layer\n",
        "# 1) filters (kernel) = 64\n",
        "# 2) kernal size = 3\n",
        "# 3) padding = same\n",
        "# 4) activation = ReLU\n",
        "\n",
        "model.add(tf.keras.layers.Conv2D(filters=64, kernel_size=3, padding='same', activation='relu'))\n",
        "\n",
        "# maxpool layer parameters,\n",
        "# 1) pool size = 2\n",
        "# 2) strides = 2\n",
        "# 3) padding = valid\n",
        "\n",
        "model.add(tf.keras.layers.MaxPool2D(pool_size=2, strides=2, padding='valid'))"
      ],
      "execution_count": 0,
      "outputs": []
    },
    {
      "cell_type": "code",
      "metadata": {
        "id": "d3HfHnUUAlhP",
        "colab_type": "code",
        "colab": {}
      },
      "source": [
        "# Adding the dropout layer\n",
        "model.add(tf.keras.layers.Dropout(0.4))"
      ],
      "execution_count": 0,
      "outputs": []
    },
    {
      "cell_type": "code",
      "metadata": {
        "id": "688TSDyFBAnB",
        "colab_type": "code",
        "colab": {}
      },
      "source": [
        "# Adding the Flattening layer\n",
        "model.add(tf.keras.layers.Flatten())"
      ],
      "execution_count": 0,
      "outputs": []
    },
    {
      "cell_type": "code",
      "metadata": {
        "id": "KTJC_fwIBWbc",
        "colab_type": "code",
        "colab": {}
      },
      "source": [
        "# Adding first dense layer\n",
        "model.add(tf.keras.layers.Dense(units=128, activation='relu'))"
      ],
      "execution_count": 0,
      "outputs": []
    },
    {
      "cell_type": "code",
      "metadata": {
        "id": "fX9Isc8BBmCQ",
        "colab_type": "code",
        "colab": {}
      },
      "source": [
        "# Adding second dense layer (output layer)\n",
        "model.add(tf.keras.layers.Dense(units=10, activation='softmax'))"
      ],
      "execution_count": 0,
      "outputs": []
    },
    {
      "cell_type": "code",
      "metadata": {
        "id": "fE-_GDQ1CYP0",
        "colab_type": "code",
        "outputId": "74290c02-b64e-4333-fe7b-01dba579e172",
        "colab": {
          "base_uri": "https://localhost:8080/",
          "height": 493
        }
      },
      "source": [
        "model.summary()"
      ],
      "execution_count": 27,
      "outputs": [
        {
          "output_type": "stream",
          "text": [
            "Model: \"sequential\"\n",
            "_________________________________________________________________\n",
            "Layer (type)                 Output Shape              Param #   \n",
            "=================================================================\n",
            "conv2d (Conv2D)              (None, 32, 32, 32)        896       \n",
            "_________________________________________________________________\n",
            "conv2d_1 (Conv2D)            (None, 32, 32, 32)        9248      \n",
            "_________________________________________________________________\n",
            "max_pooling2d (MaxPooling2D) (None, 16, 16, 32)        0         \n",
            "_________________________________________________________________\n",
            "conv2d_2 (Conv2D)            (None, 16, 16, 64)        18496     \n",
            "_________________________________________________________________\n",
            "conv2d_3 (Conv2D)            (None, 16, 16, 64)        36928     \n",
            "_________________________________________________________________\n",
            "max_pooling2d_1 (MaxPooling2 (None, 8, 8, 64)          0         \n",
            "_________________________________________________________________\n",
            "dropout (Dropout)            (None, 8, 8, 64)          0         \n",
            "_________________________________________________________________\n",
            "flatten (Flatten)            (None, 4096)              0         \n",
            "_________________________________________________________________\n",
            "dense (Dense)                (None, 128)               524416    \n",
            "_________________________________________________________________\n",
            "dense_1 (Dense)              (None, 10)                1290      \n",
            "=================================================================\n",
            "Total params: 591,274\n",
            "Trainable params: 591,274\n",
            "Non-trainable params: 0\n",
            "_________________________________________________________________\n"
          ],
          "name": "stdout"
        }
      ]
    },
    {
      "cell_type": "markdown",
      "metadata": {
        "id": "yVf95HNZOcnm",
        "colab_type": "text"
      },
      "source": [
        "# Step 4: Training the model"
      ]
    },
    {
      "cell_type": "code",
      "metadata": {
        "id": "SMfBwuD8ZF68",
        "colab_type": "code",
        "colab": {}
      },
      "source": [
        "# Compiling the model\n",
        "model.compile(loss='sparse_categorical_crossentropy', optimizer='adam', metrics=['sparse_categorical_accuracy'])\n"
      ],
      "execution_count": 0,
      "outputs": []
    },
    {
      "cell_type": "code",
      "metadata": {
        "id": "vdp6klsNgjf3",
        "colab_type": "code",
        "colab": {}
      },
      "source": [
        "epochs=10"
      ],
      "execution_count": 0,
      "outputs": []
    },
    {
      "cell_type": "code",
      "metadata": {
        "id": "aR5E1IhUbTeT",
        "colab_type": "code",
        "outputId": "2d8ebfb2-5cf3-49a7-ffc1-b6e570d5fad9",
        "colab": {
          "base_uri": "https://localhost:8080/",
          "height": 394
        }
      },
      "source": [
        "history=model.fit(x_train, y_train, batch_size=10, epochs=epochs,validation_split=0.2)"
      ],
      "execution_count": 30,
      "outputs": [
        {
          "output_type": "stream",
          "text": [
            "Train on 40000 samples, validate on 10000 samples\n",
            "Epoch 1/10\n",
            "40000/40000 [==============================] - 254s 6ms/sample - loss: 1.4274 - sparse_categorical_accuracy: 0.4835 - val_loss: 1.0671 - val_sparse_categorical_accuracy: 0.6199\n",
            "Epoch 2/10\n",
            "40000/40000 [==============================] - 252s 6ms/sample - loss: 1.0373 - sparse_categorical_accuracy: 0.6317 - val_loss: 0.8931 - val_sparse_categorical_accuracy: 0.6833\n",
            "Epoch 3/10\n",
            "40000/40000 [==============================] - 255s 6ms/sample - loss: 0.8880 - sparse_categorical_accuracy: 0.6887 - val_loss: 0.8618 - val_sparse_categorical_accuracy: 0.6967\n",
            "Epoch 4/10\n",
            "40000/40000 [==============================] - 253s 6ms/sample - loss: 0.7985 - sparse_categorical_accuracy: 0.7170 - val_loss: 0.7719 - val_sparse_categorical_accuracy: 0.7233\n",
            "Epoch 5/10\n",
            "40000/40000 [==============================] - 255s 6ms/sample - loss: 0.7246 - sparse_categorical_accuracy: 0.7444 - val_loss: 0.7730 - val_sparse_categorical_accuracy: 0.7319\n",
            "Epoch 6/10\n",
            "40000/40000 [==============================] - 255s 6ms/sample - loss: 0.6661 - sparse_categorical_accuracy: 0.7636 - val_loss: 0.7593 - val_sparse_categorical_accuracy: 0.7373\n",
            "Epoch 7/10\n",
            "40000/40000 [==============================] - 257s 6ms/sample - loss: 0.6216 - sparse_categorical_accuracy: 0.7797 - val_loss: 0.7693 - val_sparse_categorical_accuracy: 0.7333\n",
            "Epoch 8/10\n",
            "40000/40000 [==============================] - 255s 6ms/sample - loss: 0.5840 - sparse_categorical_accuracy: 0.7947 - val_loss: 0.7710 - val_sparse_categorical_accuracy: 0.7398\n",
            "Epoch 9/10\n",
            "40000/40000 [==============================] - 254s 6ms/sample - loss: 0.5402 - sparse_categorical_accuracy: 0.8074 - val_loss: 0.7913 - val_sparse_categorical_accuracy: 0.7299\n",
            "Epoch 10/10\n",
            "40000/40000 [==============================] - 255s 6ms/sample - loss: 0.5111 - sparse_categorical_accuracy: 0.8213 - val_loss: 0.7942 - val_sparse_categorical_accuracy: 0.7440\n"
          ],
          "name": "stdout"
        }
      ]
    },
    {
      "cell_type": "markdown",
      "metadata": {
        "id": "-CES4RsyqZeO",
        "colab_type": "text"
      },
      "source": [
        "# Step 5: Model evaluation and prediction"
      ]
    },
    {
      "cell_type": "code",
      "metadata": {
        "id": "rR0Jp6C-qdT9",
        "colab_type": "code",
        "outputId": "9ee796e1-b103-4ea0-828c-909c5fd73d4b",
        "colab": {
          "base_uri": "https://localhost:8080/",
          "height": 34
        }
      },
      "source": [
        "# evaluate the model performane\n",
        "test_loss, test_acc = model.evaluate(x_test, y_test)"
      ],
      "execution_count": 29,
      "outputs": [
        {
          "output_type": "stream",
          "text": [
            "10000/10000 [==============================] - 15s 1ms/sample - loss: 2.3104 - sparse_categorical_accuracy: 0.0937\n"
          ],
          "name": "stdout"
        }
      ]
    },
    {
      "cell_type": "code",
      "metadata": {
        "id": "HBj0RaEKrV9t",
        "colab_type": "code",
        "outputId": "2abc92db-28fd-4c70-db29-0b2c9ef8ec0b",
        "colab": {
          "base_uri": "https://localhost:8080/",
          "height": 34
        }
      },
      "source": [
        "print('Test Accuracy is: {}'.format(test_acc))"
      ],
      "execution_count": 31,
      "outputs": [
        {
          "output_type": "stream",
          "text": [
            "Test Accuracy is: 0.09369999915361404\n"
          ],
          "name": "stdout"
        }
      ]
    },
    {
      "cell_type": "code",
      "metadata": {
        "id": "FcYQx60tr3Lg",
        "colab_type": "code",
        "colab": {}
      },
      "source": [
        "# Predictions\n",
        "y_pred = model.predict_classes(x_test)"
      ],
      "execution_count": 0,
      "outputs": []
    },
    {
      "cell_type": "code",
      "metadata": {
        "id": "Zzh5lGbKsWOq",
        "colab_type": "code",
        "outputId": "6f248d90-292a-4e5f-c27d-2f2dfbd71c32",
        "colab": {
          "base_uri": "https://localhost:8080/",
          "height": 68
        }
      },
      "source": [
        "print(y_pred[0]), print(y_test[0])"
      ],
      "execution_count": 33,
      "outputs": [
        {
          "output_type": "stream",
          "text": [
            "3\n",
            "[3]\n"
          ],
          "name": "stdout"
        },
        {
          "output_type": "execute_result",
          "data": {
            "text/plain": [
              "(None, None)"
            ]
          },
          "metadata": {
            "tags": []
          },
          "execution_count": 33
        }
      ]
    },
    {
      "cell_type": "code",
      "metadata": {
        "id": "PIUJd2WGs4w0",
        "colab_type": "code",
        "outputId": "ad3a2369-0c69-4164-e536-cfaea452e962",
        "colab": {
          "base_uri": "https://localhost:8080/",
          "height": 187
        }
      },
      "source": [
        "# Confusion matrix\n",
        "\n",
        "from sklearn.metrics import confusion_matrix, accuracy_score\n",
        "cm = confusion_matrix(y_test, y_pred)\n",
        "print(cm)"
      ],
      "execution_count": 35,
      "outputs": [
        {
          "output_type": "stream",
          "text": [
            "[[848  11  29  10  21   4   5  16  32  24]\n",
            " [ 23 862   0   4   1   5   6   5  14  80]\n",
            " [ 93   4 553  28 151  65  46  37  13  10]\n",
            " [ 51  13  59 426 102 210  53  58  13  15]\n",
            " [ 22   4  38  31 766  23  23  88   4   1]\n",
            " [ 21   2  41 117  60 656  12  76   8   7]\n",
            " [  9   5  45  30  87  32 760  19   8   5]\n",
            " [ 20   2  23  16  55  42   8 829   1   4]\n",
            " [ 96  31  16   7   4   1   3   6 804  32]\n",
            " [ 48  61   5   6   7   4   0  20  12 837]]\n"
          ],
          "name": "stdout"
        }
      ]
    },
    {
      "cell_type": "code",
      "metadata": {
        "id": "_bxCHUlptvt3",
        "colab_type": "code",
        "outputId": "90673415-b1fe-4514-dd97-7713a26942dd",
        "colab": {
          "base_uri": "https://localhost:8080/",
          "height": 34
        }
      },
      "source": [
        "acc_cm = accuracy_score(y_test, y_pred)\n",
        "print(acc_cm)"
      ],
      "execution_count": 36,
      "outputs": [
        {
          "output_type": "stream",
          "text": [
            "0.7341\n"
          ],
          "name": "stdout"
        }
      ]
    },
    {
      "cell_type": "code",
      "metadata": {
        "id": "8BsYxZCOf4Nc",
        "colab_type": "code",
        "colab": {}
      },
      "source": [
        "# learning curve based on history\n",
        "def learning_curve(history, epoch):\n",
        "\n",
        "  # training vs validation accuracy\n",
        "  epoch_range = range(1, epoch+1)\n",
        "  plt.plot(epoch_range, history.history['sparse_categorical_accuracy'])\n",
        "  plt.plot(epoch_range, history.history['val_sparse_categorical_accuracy'])\n",
        "  plt.title('Model Accuracy')\n",
        "  plt.ylabel('Accuracy')\n",
        "  plt.xlabel('Epoch')\n",
        "  plt.legend(['Train', 'val'], loc='upper left')\n",
        "  plt.show()\n",
        "\n",
        "  # training vs validation loss\n",
        "  plt.plot(epoch_range, history.history['loss'])\n",
        "  plt.plot(epoch_range, history.history['val_loss'])\n",
        "  plt.title('Model Loss')\n",
        "  plt.ylabel('Loss')\n",
        "  plt.xlabel('Epoch')\n",
        "  plt.legend(['Train', 'val'], loc='upper left')\n",
        "  plt.show()\n"
      ],
      "execution_count": 0,
      "outputs": []
    },
    {
      "cell_type": "code",
      "metadata": {
        "id": "ls6TKKIcf15L",
        "colab_type": "code",
        "colab": {
          "base_uri": "https://localhost:8080/",
          "height": 573
        },
        "outputId": "46f76758-84a0-4123-fe70-ce7155753a2a"
      },
      "source": [
        "# plot the learning curve for uncalibrated data\n",
        "learning_curve(history, epochs)"
      ],
      "execution_count": 40,
      "outputs": [
        {
          "output_type": "display_data",
          "data": {
            "image/png": "[encoded data removed]",
            "text/plain": [
              "<Figure size 432x288 with 1 Axes>"
            ]
          },
          "metadata": {
            "tags": [],
            "needs_background": "light"
          }
        },
        {
          "output_type": "display_data",
          "data": {
            "image/png": "[encoded data removed]",
            "text/plain": [
              "<Figure size 432x288 with 1 Axes>"
            ]
          },
          "metadata": {
            "tags": [],
            "needs_background": "light"
          }
        }
      ]
    },
    {
      "cell_type": "code",
      "metadata": {
        "id": "3Uq65zWPgT2f",
        "colab_type": "code",
        "colab": {
          "base_uri": "https://localhost:8080/",
          "height": 391
        },
        "outputId": "628acf5a-bc95-4672-e16b-f41b2da5d1b9"
      },
      "source": [
        "import seaborn as sns\n",
        "# heat map of data\n",
        "plt.figure(figsize=(5,5))\n",
        "sns.heatmap(cm,annot=True)"
      ],
      "execution_count": 41,
      "outputs": [
        {
          "output_type": "stream",
          "text": [
            "/usr/local/lib/python3.6/dist-packages/statsmodels/tools/_testing.py:19: FutureWarning: pandas.util.testing is deprecated. Use the functions in the public API at pandas.testing instead.\n",
            "  import pandas.util.testing as tm\n"
          ],
          "name": "stderr"
        },
        {
          "output_type": "execute_result",
          "data": {
            "text/plain": [
              "<matplotlib.axes._subplots.AxesSubplot at 0x7fd38bc84ba8>"
            ]
          },
          "metadata": {
            "tags": []
          },
          "execution_count": 41
        },
        {
          "output_type": "display_data",
          "data": {
            "image/png": "[encoded data removed]",
            "text/plain": [
              "<Figure size 360x360 with 2 Axes>"
            ]
          },
          "metadata": {
            "tags": [],
            "needs_background": "light"
          }
        }
      ]
    },
    {
      "cell_type": "code",
      "metadata": {
        "id": "WRyW71Okkfxm",
        "colab_type": "code",
        "colab": {}
      },
      "source": [
        ""
      ],
      "execution_count": 0,
      "outputs": []
    }
  ]
}